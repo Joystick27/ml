{
 "cells": [
  {
   "cell_type": "code",
   "execution_count": 1,
   "metadata": {},
   "outputs": [],
   "source": [
    "import numpy as np\n",
    "import pandas as pd\n",
    "import matplotlib.pyplot as plt"
   ]
  },
  {
   "cell_type": "code",
   "execution_count": null,
   "metadata": {},
   "outputs": [],
   "source": []
  },
  {
   "cell_type": "code",
   "execution_count": null,
   "metadata": {},
   "outputs": [],
   "source": []
  },
  {
   "cell_type": "code",
   "execution_count": null,
   "metadata": {},
   "outputs": [],
   "source": []
  },
  {
   "cell_type": "code",
   "execution_count": null,
   "metadata": {},
   "outputs": [],
   "source": []
  },
  {
   "cell_type": "code",
   "execution_count": null,
   "metadata": {},
   "outputs": [],
   "source": []
  },
  {
   "cell_type": "code",
   "execution_count": 15,
   "metadata": {},
   "outputs": [],
   "source": [
    "def plot(X, pred):\n",
    "    xsort = X[:, 1].argsort(0)\n",
    "    sort = X[xsort][:, 0]\n",
    "    fig = plt.figure()\n",
    "    ax = fig.add_subplot()\n",
    "    ax.scatter(bill, tip, color='green')\n",
    "    ax.plot(sort[:, 1], pred[xsort], color = 'red')\n",
    "    plt.show"
   ]
  },
  {
   "cell_type": "code",
   "execution_count": 3,
   "metadata": {},
   "outputs": [],
   "source": [
    "def kernel(X, point, k):\n",
    "    m, n = X.shape\n",
    "    W = np.mat(np.eye(m))\n",
    "    for i in range(m):\n",
    "        diff = point - X[i]\n",
    "        W[i, i] = np.exp(diff*diff.T/(-2.0*k**2))\n",
    "    return W"
   ]
  },
  {
   "cell_type": "code",
   "execution_count": 7,
   "metadata": {},
   "outputs": [],
   "source": [
    "def localWeight(X, point, mtip, k):\n",
    "    wei = kernel(X, point, k)\n",
    "    W = (X.T*(wei*X)).I* (X.T*(wei*mtip.T))\n",
    "    return W"
   ]
  },
  {
   "cell_type": "code",
   "execution_count": 9,
   "metadata": {},
   "outputs": [],
   "source": [
    "def localWeightRegression(data, mtip, k):\n",
    "    m, n = np.shape(data)\n",
    "    pred = np.zeros(m)\n",
    "    for i in range(m):\n",
    "        pred[i] = data[i]*localWeight(data, data[i], mtip, k)\n",
    "    return pred"
   ]
  },
  {
   "cell_type": "code",
   "execution_count": 16,
   "metadata": {},
   "outputs": [
    {
     "data": {
      "image/png": "[encoded data removed]",
      "text/plain": [
       "<Figure size 432x288 with 1 Axes>"
      ]
     },
     "metadata": {
      "needs_background": "light"
     },
     "output_type": "display_data"
    }
   ],
   "source": [
    "data = pd.read_csv(\"tips.csv\")\n",
    "bill = np.array(data.total_bill)\n",
    "tip = np.array(data.tip)\n",
    "\n",
    "mbill = np.mat(bill)\n",
    "mtip = np.mat(tip)\n",
    "m = mbill.shape[1]\n",
    "ones = np.mat(np.ones(m))\n",
    "X = np.hstack((ones.T, mbill.T))\n",
    "pred = localWeightRegression(X, mtip, 0.5)\n",
    "plot(X, pred)"
   ]
  },
  {
   "cell_type": "code",
   "execution_count": null,
   "metadata": {},
   "outputs": [],
   "source": []
  }
 ],
 "metadata": {
  "kernelspec": {
   "display_name": "Python 3",
   "language": "python",
   "name": "python3"
  },
  "language_info": {
   "codemirror_mode": {
    "name": "ipython",
    "version": 3
   },
   "file_extension": ".py",
   "mimetype": "text/x-python",
   "name": "python",
   "nbconvert_exporter": "python",
   "pygments_lexer": "ipython3",
   "version": "3.7.4"
  }
 },
 "nbformat": 4,
 "nbformat_minor": 2
}
