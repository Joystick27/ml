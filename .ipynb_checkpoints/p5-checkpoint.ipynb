{
 "cells": [
  {
   "cell_type": "code",
   "execution_count": 0,
   "metadata": {
    "colab": {},
    "colab_type": "code",
    "id": "9_SsRRpH586t"
   },
   "outputs": [],
   "source": [
    "import pandas as pd\n",
    "import random\n",
    "import math\n",
    "import statistics as st"
   ]
  },
  {
   "cell_type": "code",
   "execution_count": 0,
   "metadata": {
    "colab": {},
    "colab_type": "code",
    "id": "nGxzYtQQ6EWk"
   },
   "outputs": [],
   "source": [
    "def loadCsv(filename):\n",
    "    df = pd.read_csv(filename)\n",
    "    dataset = df.values.tolist()\n",
    "    dataset = dataset[1:]\n",
    "    return dataset"
   ]
  },
  {
   "cell_type": "code",
   "execution_count": 0,
   "metadata": {
    "colab": {},
    "colab_type": "code",
    "id": "IHqVxFKs773R"
   },
   "outputs": [],
   "source": [
    "def splitDataset(dataset, ratio):\n",
    "    trainSize = int(len(dataset) * ratio)\n",
    "    trainSet = []\n",
    "    testSet = dataset.copy()\n",
    "    for i in range(trainSize):\n",
    "        ind = random.randrange(len(testSet))\n",
    "        trainSet.append(testSet.pop(ind))\n",
    "        \n",
    "    return trainSet, testSet\n",
    "    # Uncomment to see the prediction\n",
    "    # return trainSet, testSet[1: 3]"
   ]
  },
  {
   "cell_type": "code",
   "execution_count": 0,
   "metadata": {
    "colab": {},
    "colab_type": "code",
    "id": "_5hQvNH-DRDK"
   },
   "outputs": [],
   "source": [
    "def mean(numbers):\n",
    "    return st.mean(numbers)\n",
    "\n",
    "def stdev(numbers):\n",
    "    return st.stdev(numbers)"
   ]
  },
  {
   "cell_type": "code",
   "execution_count": 0,
   "metadata": {
    "colab": {},
    "colab_type": "code",
    "id": "tdY0jUzeCSpt"
   },
   "outputs": [],
   "source": [
    "def summarize(dataset):\n",
    "    summaries = [(mean(attri), stdev(attri)) for attri in zip(*dataset)]\n",
    "    del summaries[-1]\n",
    "    return summaries"
   ]
  },
  {
   "cell_type": "code",
   "execution_count": 0,
   "metadata": {
    "colab": {},
    "colab_type": "code",
    "id": "SNu6z-iv-N4l"
   },
   "outputs": [],
   "source": [
    "# This fuction makes a dictionary of the dataset that has two \n",
    "# keys 0 and 1 and all the data is appended to those keys\n",
    "def seprateByClass(dataset):\n",
    "    seprated = {}\n",
    "    for i in range(len(dataset)):\n",
    "        vector = dataset[i]\n",
    "        seprated.setdefault(dataset[i][-1], []).append(dataset[i])\n",
    "    return seprated"
   ]
  },
  {
   "cell_type": "code",
   "execution_count": 0,
   "metadata": {
    "colab": {},
    "colab_type": "code",
    "id": "52bE-hucBF9-"
   },
   "outputs": [],
   "source": [
    "def summarizeByClass(dataset):\n",
    "    #seprate the data based on 0 and 1 output\n",
    "    seprated = seprateByClass(dataset)\n",
    "    summaries = {}\n",
    "    #first it sends 0 with class 0 data and then 1 with class 1 data\n",
    "    for cV, inst in seprated.items():\n",
    "        summaries[cV] = summarize(inst)\n",
    "    return summaries"
   ]
  },
  {
   "cell_type": "code",
   "execution_count": 0,
   "metadata": {
    "colab": {},
    "colab_type": "code",
    "id": "DCFeotYsE9YR"
   },
   "outputs": [],
   "source": [
    "def calculateProb(x, mean, stdev):\n",
    "    exp = math.exp(-(math.pow(x-mean, 2)/ (2 * math.pow(stdev, 2))))\n",
    "    return (1/(math.sqrt(2*math.pi) * stdev)) * exp"
   ]
  },
  {
   "cell_type": "code",
   "execution_count": 0,
   "metadata": {
    "colab": {},
    "colab_type": "code",
    "id": "0Ye96rPbE9r-"
   },
   "outputs": [],
   "source": [
    "def calculateClassProb(summaries, input):\n",
    "    prob = {}\n",
    "    # cV will be 1 or 0 and cS will be the mean and stdev\n",
    "    for cV, cS in summaries.items():\n",
    "        prob[cV] = 1\n",
    "        #class will have many cS 8 so for each we have to loop\n",
    "        for i in range(len(cS)):\n",
    "            #for each cS extract mean and stdev\n",
    "            mean, stdev = cS[i]\n",
    "            x = input[i]\n",
    "            # for all the values in input it is classified that if its prob is 1 or 0. The weights. Uncomment print to see\n",
    "            prob[cV] *= calculateProb(x, mean, stdev)\n",
    "            # print(x, prob[cV])\n",
    "    return prob\n"
   ]
  },
  {
   "cell_type": "code",
   "execution_count": 0,
   "metadata": {
    "colab": {},
    "colab_type": "code",
    "id": "fYeh-OQREtaH"
   },
   "outputs": [],
   "source": [
    "def predict(summaries, input):\n",
    "    prob = calculateClassProb(summaries, input)\n",
    "    #gets the prob of the input  can be of any class\n",
    "    # print(prob)\n",
    "    bestLabel, bestProb = None, -1\n",
    "    for cV, proba in prob.items():\n",
    "        # if no the prob of 0 is greater or 1 is greater\n",
    "        if proba > bestProb:\n",
    "            bestProb = proba\n",
    "            bestLabel = cV\n",
    "    #return the best label\n",
    "    return bestLabel"
   ]
  },
  {
   "cell_type": "code",
   "execution_count": 0,
   "metadata": {
    "colab": {},
    "colab_type": "code",
    "id": "FS4N51KPEaQr"
   },
   "outputs": [],
   "source": [
    "def getPredictions(summaries, testSet):\n",
    "    predictions = []\n",
    "    # Takes each test input and then passes to the predict function for prediction\n",
    "    for i in range(len(testSet)):\n",
    "        result = predict(summaries, testSet[i])\n",
    "        predictions.append(result)\n",
    "    return predictions"
   ]
  },
  {
   "cell_type": "code",
   "execution_count": 0,
   "metadata": {
    "colab": {},
    "colab_type": "code",
    "id": "C4irxtkGI1fy"
   },
   "outputs": [],
   "source": [
    "def getAccuracy(testSet, predictions):\n",
    "    correct = 0\n",
    "    for i in range(len(testSet)):\n",
    "        if testSet[i][-1] == predictions[i]:\n",
    "            correct += 1\n",
    "    return correct/float(len(testSet))"
   ]
  },
  {
   "cell_type": "code",
   "execution_count": 0,
   "metadata": {
    "colab": {},
    "colab_type": "code",
    "id": "BWXP4XWp63xb"
   },
   "outputs": [],
   "source": [
    "def main():\n",
    "    splitRatio = 0.75\n",
    "    dataset = loadCsv(\"diabetes-data.csv\")\n",
    "    trainSet, testSet = splitDataset(dataset, splitRatio)\n",
    "    print(\"-------------------Output of naive bayes classifier-------------------\")\n",
    "    print('Splitting {} rows into training = {} and testing = {} rows'.format(len(dataset), len(trainSet), len(testSet)))\n",
    "    summary = summarizeByClass(trainSet)\n",
    "    predictions = getPredictions(summary, testSet)\n",
    "    acc = getAccuracy(testSet, predictions)\n",
    "    print(acc)"
   ]
  },
  {
   "cell_type": "code",
   "execution_count": 110,
   "metadata": {
    "colab": {
     "base_uri": "https://localhost:8080/",
     "height": 67
    },
    "colab_type": "code",
    "id": "g_jt6g6l7up_",
    "outputId": "025149c8-9fef-4074-8cdc-00aa407e8b63"
   },
   "outputs": [
    {
     "name": "stdout",
     "output_type": "stream",
     "text": [
      "-------------------Output of naive bayes classifier-------------------\n",
      "Splitting 767 rows into training = 575 and testing = 192 rows\n",
      "0.765625\n"
     ]
    }
   ],
   "source": [
    "main()"
   ]
  }
 ],
 "metadata": {
  "colab": {
   "collapsed_sections": [],
   "name": "p5.ipynb",
   "provenance": []
  },
  "kernelspec": {
   "display_name": "Python 3",
   "language": "python",
   "name": "python3"
  },
  "language_info": {
   "codemirror_mode": {
    "name": "ipython",
    "version": 3
   },
   "file_extension": ".py",
   "mimetype": "text/x-python",
   "name": "python",
   "nbconvert_exporter": "python",
   "pygments_lexer": "ipython3",
   "version": "3.7.4"
  }
 },
 "nbformat": 4,
 "nbformat_minor": 1
}
