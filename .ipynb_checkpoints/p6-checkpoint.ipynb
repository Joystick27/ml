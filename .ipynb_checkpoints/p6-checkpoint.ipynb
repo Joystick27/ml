{
 "cells": [
  {
   "cell_type": "code",
   "execution_count": 0,
   "metadata": {
    "colab": {},
    "colab_type": "code",
    "id": "DTLPqEzPKimr"
   },
   "outputs": [],
   "source": [
    "from google.colab import files\n",
    "upload = files.upload()"
   ]
  },
  {
   "cell_type": "code",
   "execution_count": 1,
   "metadata": {
    "colab": {},
    "colab_type": "code",
    "id": "6h__mTw0zN04"
   },
   "outputs": [],
   "source": [
    "import pandas as pd\n",
    "import numpy as np\n",
    "import string"
   ]
  },
  {
   "cell_type": "code",
   "execution_count": 4,
   "metadata": {
    "colab": {
     "base_uri": "https://localhost:8080/",
     "height": 665
    },
    "colab_type": "code",
    "id": "vxDHzbkZzeYI",
    "outputId": "e997ede4-8b70-4a3a-b7a5-35b8ba8eba1a"
   },
   "outputs": [
    {
     "data": {
      "text/html": [
       "<div>\n",
       "<style scoped>\n",
       "    .dataframe tbody tr th:only-of-type {\n",
       "        vertical-align: middle;\n",
       "    }\n",
       "\n",
       "    .dataframe tbody tr th {\n",
       "        vertical-align: top;\n",
       "    }\n",
       "\n",
       "    .dataframe thead th {\n",
       "        text-align: right;\n",
       "    }\n",
       "</style>\n",
       "<table border=\"1\" class=\"dataframe\">\n",
       "  <thead>\n",
       "    <tr style=\"text-align: right;\">\n",
       "      <th></th>\n",
       "      <th>ID</th>\n",
       "      <th>TITLE</th>\n",
       "      <th>URL</th>\n",
       "      <th>PUBLISHER</th>\n",
       "      <th>CATEGORY</th>\n",
       "      <th>STORY</th>\n",
       "      <th>HOSTNAME</th>\n",
       "      <th>TIMESTAMP</th>\n",
       "      <th>Unnamed: 8</th>\n",
       "    </tr>\n",
       "  </thead>\n",
       "  <tbody>\n",
       "    <tr>\n",
       "      <td>422413</td>\n",
       "      <td>422932</td>\n",
       "      <td>Cincinnati Children's surgeons to rebuild thro...</td>\n",
       "      <td>http://www.wsmv.com/story/26378648/surgeons-re...</td>\n",
       "      <td>WSMV Nashville</td>\n",
       "      <td>m</td>\n",
       "      <td>dpcLMoJD69UYMXMxaoEFnWql9YjQM</td>\n",
       "      <td>www.wsmv.com</td>\n",
       "      <td>1409229189743</td>\n",
       "      <td>NaN</td>\n",
       "    </tr>\n",
       "    <tr>\n",
       "      <td>422414</td>\n",
       "      <td>422933</td>\n",
       "      <td>Surgeons to remove 4-year-old's rib to rebuild...</td>\n",
       "      <td>http://www.cbs3springfield.com/story/26378648/...</td>\n",
       "      <td>WSHM-TV</td>\n",
       "      <td>m</td>\n",
       "      <td>dpcLMoJD69UYMXMxaoEFnWql9YjQM</td>\n",
       "      <td>www.cbs3springfield.com</td>\n",
       "      <td>1409229190251</td>\n",
       "      <td>NaN</td>\n",
       "    </tr>\n",
       "    <tr>\n",
       "      <td>422415</td>\n",
       "      <td>422934</td>\n",
       "      <td>Boy to have surgery on esophagus after battery...</td>\n",
       "      <td>http://www.wlwt.com/news/boy-to-have-surgery-o...</td>\n",
       "      <td>WLWT Cincinnati</td>\n",
       "      <td>m</td>\n",
       "      <td>dpcLMoJD69UYMXMxaoEFnWql9YjQM</td>\n",
       "      <td>www.wlwt.com</td>\n",
       "      <td>1409229190508</td>\n",
       "      <td>NaN</td>\n",
       "    </tr>\n",
       "    <tr>\n",
       "      <td>422416</td>\n",
       "      <td>422935</td>\n",
       "      <td>Child who swallowed battery to have reconstruc...</td>\n",
       "      <td>http://www.newsnet5.com/news/local-news/child-...</td>\n",
       "      <td>NewsNet5.com</td>\n",
       "      <td>m</td>\n",
       "      <td>dpcLMoJD69UYMXMxaoEFnWql9YjQM</td>\n",
       "      <td>www.newsnet5.com</td>\n",
       "      <td>1409229190771</td>\n",
       "      <td>NaN</td>\n",
       "    </tr>\n",
       "    <tr>\n",
       "      <td>422417</td>\n",
       "      <td>422936</td>\n",
       "      <td>Phoenix boy undergoes surgery to repair throat...</td>\n",
       "      <td>http://www.wfsb.com/story/26368078/phoenix-boy...</td>\n",
       "      <td>WFSB</td>\n",
       "      <td>m</td>\n",
       "      <td>dpcLMoJD69UYMXMxaoEFnWql9YjQM</td>\n",
       "      <td>www.wfsb.com</td>\n",
       "      <td>1409229191071</td>\n",
       "      <td>NaN</td>\n",
       "    </tr>\n",
       "    <tr>\n",
       "      <td>422418</td>\n",
       "      <td>422937</td>\n",
       "      <td>Phoenix boy undergoes surgery to repair throat...</td>\n",
       "      <td>http://www.cbs3springfield.com/story/26368078/...</td>\n",
       "      <td>WSHM-TV</td>\n",
       "      <td>m</td>\n",
       "      <td>dpcLMoJD69UYMXMxaoEFnWql9YjQM</td>\n",
       "      <td>www.cbs3springfield.com</td>\n",
       "      <td>1409229191565</td>\n",
       "      <td>NaN</td>\n",
       "    </tr>\n",
       "  </tbody>\n",
       "</table>\n",
       "</div>"
      ],
      "text/plain": [
       "            ID                                              TITLE  \\\n",
       "422413  422932  Cincinnati Children's surgeons to rebuild thro...   \n",
       "422414  422933  Surgeons to remove 4-year-old's rib to rebuild...   \n",
       "422415  422934  Boy to have surgery on esophagus after battery...   \n",
       "422416  422935  Child who swallowed battery to have reconstruc...   \n",
       "422417  422936  Phoenix boy undergoes surgery to repair throat...   \n",
       "422418  422937  Phoenix boy undergoes surgery to repair throat...   \n",
       "\n",
       "                                                      URL        PUBLISHER  \\\n",
       "422413  http://www.wsmv.com/story/26378648/surgeons-re...   WSMV Nashville   \n",
       "422414  http://www.cbs3springfield.com/story/26378648/...          WSHM-TV   \n",
       "422415  http://www.wlwt.com/news/boy-to-have-surgery-o...  WLWT Cincinnati   \n",
       "422416  http://www.newsnet5.com/news/local-news/child-...     NewsNet5.com   \n",
       "422417  http://www.wfsb.com/story/26368078/phoenix-boy...             WFSB   \n",
       "422418  http://www.cbs3springfield.com/story/26368078/...          WSHM-TV   \n",
       "\n",
       "       CATEGORY                          STORY                 HOSTNAME  \\\n",
       "422413        m  dpcLMoJD69UYMXMxaoEFnWql9YjQM             www.wsmv.com   \n",
       "422414        m  dpcLMoJD69UYMXMxaoEFnWql9YjQM  www.cbs3springfield.com   \n",
       "422415        m  dpcLMoJD69UYMXMxaoEFnWql9YjQM             www.wlwt.com   \n",
       "422416        m  dpcLMoJD69UYMXMxaoEFnWql9YjQM         www.newsnet5.com   \n",
       "422417        m  dpcLMoJD69UYMXMxaoEFnWql9YjQM             www.wfsb.com   \n",
       "422418        m  dpcLMoJD69UYMXMxaoEFnWql9YjQM  www.cbs3springfield.com   \n",
       "\n",
       "            TIMESTAMP  Unnamed: 8  \n",
       "422413  1409229189743         NaN  \n",
       "422414  1409229190251         NaN  \n",
       "422415  1409229190508         NaN  \n",
       "422416  1409229190771         NaN  \n",
       "422417  1409229191071         NaN  \n",
       "422418  1409229191565         NaN  "
      ]
     },
     "execution_count": 4,
     "metadata": {},
     "output_type": "execute_result"
    }
   ],
   "source": [
    "news = pd.read_csv(\"news.csv\")\n",
    "# news['CATEGORY'] = news.CATEGORY.map({'b': 1, 't': 2, 'e': 3, 'm': 4})\n",
    "news.tail(6)\n",
    "# news = news.replace(np.nan, '', regex = True)\n",
    "news.tail(6)"
   ]
  },
  {
   "cell_type": "code",
   "execution_count": 0,
   "metadata": {
    "colab": {},
    "colab_type": "code",
    "id": "zkPv1HQh1d34"
   },
   "outputs": [],
   "source": [
    "from sklearn.model_selection import train_test_split\n",
    "xTrain, xTest, yTrain, yTest = train_test_split(news['TITLE'], news['CATEGORY'], random_state=1)"
   ]
  },
  {
   "cell_type": "code",
   "execution_count": 0,
   "metadata": {
    "colab": {},
    "colab_type": "code",
    "id": "WTxMIPGK17Pt"
   },
   "outputs": [],
   "source": [
    "from sklearn.feature_extraction.text import CountVectorizer\n",
    "cv = CountVectorizer(stop_words=\"english\")\n",
    "trainData = cv.fit_transform(xTrain)\n",
    "testingData = cv.transform(xTest)"
   ]
  },
  {
   "cell_type": "code",
   "execution_count": 12,
   "metadata": {
    "colab": {
     "base_uri": "https://localhost:8080/",
     "height": 34
    },
    "colab_type": "code",
    "id": "dlQusfoj1vAs",
    "outputId": "6a541bde-e506-4ed0-9583-f0810027ab03"
   },
   "outputs": [
    {
     "data": {
      "text/plain": [
       "array([1, 1, 3, ..., 1, 1, 4])"
      ]
     },
     "execution_count": 12,
     "metadata": {
      "tags": []
     },
     "output_type": "execute_result"
    }
   ],
   "source": [
    "from sklearn.naive_bayes import MultinomialNB\n",
    "nb = MultinomialNB()\n",
    "nb.fit(trainData, yTrain)\n",
    "pred = nb.predict(testingData)\n",
    "pred"
   ]
  },
  {
   "cell_type": "code",
   "execution_count": 13,
   "metadata": {
    "colab": {
     "base_uri": "https://localhost:8080/",
     "height": 286
    },
    "colab_type": "code",
    "id": "PpyHevKt2UMy",
    "outputId": "b6be033d-2caa-4212-8961-226cfcdffd73"
   },
   "outputs": [
    {
     "name": "stdout",
     "output_type": "stream",
     "text": [
      "0.9283367264807537\n",
      "              precision    recall  f1-score   support\n",
      "\n",
      "           1       0.91      0.91      0.91     29028\n",
      "           2       0.90      0.91      0.90     27174\n",
      "           3       0.97      0.96      0.96     38082\n",
      "           4       0.92      0.92      0.92     11321\n",
      "\n",
      "    accuracy                           0.93    105605\n",
      "   macro avg       0.92      0.92      0.92    105605\n",
      "weighted avg       0.93      0.93      0.93    105605\n",
      "\n",
      "[[26306  1842   478   402]\n",
      " [ 1733 24703   496   242]\n",
      " [  547   717 36607   211]\n",
      " [  389   187   324 10421]]\n"
     ]
    }
   ],
   "source": [
    "from sklearn.metrics import classification_report, accuracy_score, confusion_matrix\n",
    "print(accuracy_score(yTest, pred))\n",
    "print(classification_report(yTest, pred))\n",
    "print(confusion_matrix(yTest, pred))"
   ]
  }
 ],
 "metadata": {
  "colab": {
   "collapsed_sections": [],
   "name": "Rough.ipynb",
   "provenance": []
  },
  "kernelspec": {
   "display_name": "Python 3",
   "language": "python",
   "name": "python3"
  },
  "language_info": {
   "codemirror_mode": {
    "name": "ipython",
    "version": 3
   },
   "file_extension": ".py",
   "mimetype": "text/x-python",
   "name": "python",
   "nbconvert_exporter": "python",
   "pygments_lexer": "ipython3",
   "version": "3.7.4"
  }
 },
 "nbformat": 4,
 "nbformat_minor": 1
}
