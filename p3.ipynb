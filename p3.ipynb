{
 "cells": [
  {
   "cell_type": "code",
   "execution_count": 1,
   "metadata": {},
   "outputs": [],
   "source": [
    "import csv\n",
    "import math\n",
    "import random"
   ]
  },
  {
   "cell_type": "code",
   "execution_count": 2,
   "metadata": {},
   "outputs": [],
   "source": [
    "# Majority Function which tells which class has more entries in given data-set\n",
    "def majorClass(attributes, data, target):\n",
    "\n",
    "    freq = {}\n",
    "    index = attributes.index(target)\n",
    "    for tuple in data:\n",
    "        freq[tuple[index]] = freq.get(tuple[index], 0) + 1\n",
    "\n",
    "    return max(freq, key = freq.get)"
   ]
  },
  {
   "cell_type": "code",
   "execution_count": 3,
   "metadata": {},
   "outputs": [],
   "source": [
    "# Calculates the entropy of the data given the target attribute\n",
    "def entropy(attributes, data, targetAttr):\n",
    "\n",
    "    freq = {}\n",
    "    dataEntropy = 0.0\n",
    "    i = 0\n",
    "    for entry in attributes:\n",
    "        if (targetAttr == entry):\n",
    "            break\n",
    "        i = i + 1\n",
    "    i = i - 1\n",
    "    for entry in data:\n",
    "        freq[entry[i]] = freq.get(entry[i], 0.0) + 1.0\n",
    "    \n",
    "    for freq in freq.values():\n",
    "        dataEntropy += (-freq/len(data)) * math.log(freq/len(data), 2) \n",
    "        \n",
    "    return dataEntropy"
   ]
  },
  {
   "cell_type": "code",
   "execution_count": 4,
   "metadata": {},
   "outputs": [],
   "source": [
    "# Calculates the information gain (reduction in entropy) in the data when a particular attribute is chosen for splitting the data.\n",
    "def info_gain(attributes, data, attr, targetAttr):\n",
    "\n",
    "    freq = {}\n",
    "    subsetEntropy = 0.0\n",
    "    i = attributes.index(attr)\n",
    "\n",
    "    for entry in data:\n",
    "        if entry[i] in freq:\n",
    "            freq[entry[i]] += 1.0\n",
    "        else:\n",
    "            freq[entry[i]]  = 1.0\n",
    "\n",
    "    for val in freq.keys():\n",
    "        valProb        = freq[val] / sum(freq.values())\n",
    "        dataSubset     = [entry for entry in data if entry[i] == val]\n",
    "        subsetEntropy += valProb * entropy(attributes, dataSubset, targetAttr)\n",
    "\n",
    "    return (entropy(attributes, data, targetAttr) - subsetEntropy)"
   ]
  },
  {
   "cell_type": "code",
   "execution_count": 5,
   "metadata": {},
   "outputs": [],
   "source": [
    "# This function chooses the attribute among the remaining attributes which has the maximum information gain.\n",
    "def attr_choose(data, attributes, target):\n",
    "\n",
    "    best = attributes[0]\n",
    "    maxGain = 0;\n",
    "\n",
    "    for attr in attributes:\n",
    "        newGain = info_gain(attributes, data, attr, target) \n",
    "        if newGain>maxGain:\n",
    "            maxGain = newGain\n",
    "            best = attr\n",
    "\n",
    "    return best\n"
   ]
  },
  {
   "cell_type": "code",
   "execution_count": 6,
   "metadata": {},
   "outputs": [],
   "source": [
    "# This function will get unique values for that particular attribute from the given data\n",
    "def get_values(data, attributes, attr):\n",
    "\n",
    "    index = attributes.index(attr)\n",
    "    values = []\n",
    "\n",
    "    for entry in data:\n",
    "        if entry[index] not in values:\n",
    "            values.append(entry[index])\n",
    "\n",
    "    return values"
   ]
  },
  {
   "cell_type": "code",
   "execution_count": 7,
   "metadata": {},
   "outputs": [],
   "source": [
    "# This function will get all the rows of the data where the chosen \"best\" attribute has a value \"val\"\n",
    "def get_data(data, attributes, best, val):\n",
    "\n",
    "    new_data = [[]]\n",
    "    index = attributes.index(best)\n",
    "\n",
    "    for entry in data:\n",
    "        if (entry[index] == val):\n",
    "            newEntry = []\n",
    "            for i in range(0,len(entry)):\n",
    "                if(i != index):\n",
    "                    newEntry.append(entry[i])\n",
    "            new_data.append(newEntry)\n",
    "\n",
    "    new_data.remove([])    \n",
    "    return new_data"
   ]
  },
  {
   "cell_type": "code",
   "execution_count": 8,
   "metadata": {},
   "outputs": [],
   "source": [
    "# This function is used to build the decision tree using the given data, attributes and the target attributes. It returns the decision tree in the end.\n",
    "def build_tree(data, attributes, target):\n",
    "\n",
    "    data = data[:]\n",
    "    vals = [record[attributes.index(target)] for record in data]\n",
    "    default = majorClass(attributes, data, target)\n",
    "\n",
    "    if not data or (len(attributes) - 1) <= 0:\n",
    "        return default\n",
    "    elif vals.count(vals[0]) == len(vals):\n",
    "        return vals[0]\n",
    "    else:\n",
    "        best = attr_choose(data, attributes, target)\n",
    "        tree = {best:{}}\n",
    "    \n",
    "        for val in get_values(data, attributes, best):\n",
    "            new_data = get_data(data, attributes, best, val)\n",
    "            newAttr = attributes[:]\n",
    "            newAttr.remove(best)\n",
    "            subtree = build_tree(new_data, newAttr, target)\n",
    "            tree[best][val] = subtree\n",
    "    \n",
    "    return tree"
   ]
  },
  {
   "cell_type": "code",
   "execution_count": 9,
   "metadata": {},
   "outputs": [],
   "source": [
    "#Main function\n",
    "def execute_decision_tree():\n",
    "\t\n",
    "    data = []\n",
    "\n",
    "    #load file\n",
    "    with open(\"weather1.csv\") as tsv:\n",
    "        for line in csv.reader(tsv):    \n",
    "            data.append(tuple(line))\n",
    "        print(\"Number of records:\",len(data))\n",
    "\n",
    "        #set attributes\n",
    "        attributes=['outlook','temperature','humidity','wind','play']\n",
    "        target = attributes[-1]\n",
    "\n",
    "        #set training data\n",
    "        acc = []\n",
    "        training_set = [x for i, x in enumerate(data)]\n",
    "        tree = build_tree( training_set, attributes, target )\n",
    "        print(tree)\n",
    "\n",
    "        #execute algorithm on test data\n",
    "        results = []\n",
    "        test_set = [('overcast','cool','normal','strong')]\n",
    "        \n",
    "        for entry in test_set:\n",
    "            tempDict = tree.copy()\n",
    "            result = \"\"\n",
    "            while(isinstance(tempDict, dict)):\n",
    "                child=[]\n",
    "                nodeVal=next(iter(tempDict))\n",
    "                child=tempDict[next(iter(tempDict))].keys()\n",
    "                tempDict = tempDict[next(iter(tempDict))]\n",
    "                index = attributes.index(nodeVal)\n",
    "                value = entry[index]\n",
    "                if(value in tempDict.keys()):\n",
    "                    result = tempDict[value]\n",
    "                    tempDict = tempDict[value]\n",
    "                else:\n",
    "                    result = \"Null\"\n",
    "                    break\n",
    "            if result != \"Null\":\n",
    "                results.append(result == entry[-1])\n",
    "        print(result)"
   ]
  },
  {
   "cell_type": "code",
   "execution_count": 10,
   "metadata": {},
   "outputs": [
    {
     "name": "stdout",
     "output_type": "stream",
     "text": [
      "Number of records: 14\n",
      "{'wind': {'wind': 'play', 'weak': {'humidity': {'high': {'outlook': {'overcast': 'yes', 'rainy': 'yes', 'sunny': 'no'}}, 'normal': 'yes'}}, 'strong': {'humidity': {'high': {'outlook': {'sunny': 'no', 'overcast': 'yes', 'rainy': 'no'}}, 'normal': {'outlook': {'rainy': 'no', 'overcast': 'yes', 'sunny': 'yes'}}}}}}\n",
      "yes\n"
     ]
    }
   ],
   "source": [
    "if __name__ == \"__main__\":\n",
    "\texecute_decision_tree()"
   ]
  },
  {
   "cell_type": "code",
   "execution_count": null,
   "metadata": {},
   "outputs": [],
   "source": []
  }
 ],
 "metadata": {
  "kernelspec": {
   "display_name": "Python 3",
   "language": "python",
   "name": "python3"
  },
  "language_info": {
   "codemirror_mode": {
    "name": "ipython",
    "version": 3
   },
   "file_extension": ".py",
   "mimetype": "text/x-python",
   "name": "python",
   "nbconvert_exporter": "python",
   "pygments_lexer": "ipython3",
   "version": "3.7.4"
  }
 },
 "nbformat": 4,
 "nbformat_minor": 2
}
