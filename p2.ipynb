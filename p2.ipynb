{
 "cells": [
  {
   "cell_type": "code",
   "execution_count": 1,
   "metadata": {
    "colab": {},
    "colab_type": "code",
    "id": "Tr475vqgo34u"
   },
   "outputs": [],
   "source": [
    "import numpy as np\n",
    "import pandas as pd"
   ]
  },
  {
   "cell_type": "code",
   "execution_count": 25,
   "metadata": {
    "colab": {},
    "colab_type": "code",
    "id": "5XlEp5ohpAY6"
   },
   "outputs": [],
   "source": [
    "data = pd.read_csv(\"weather.csv\")\n",
    "x = np.array(data.iloc[:, 0: -1])\n",
    "y = np.array(data.iloc[:, -1])"
   ]
  },
  {
   "cell_type": "code",
   "execution_count": 23,
   "metadata": {
    "colab": {},
    "colab_type": "code",
    "id": "Cj2uiY98pQw0"
   },
   "outputs": [],
   "source": [
    "def learn(x, y):\n",
    "    specific_h = x[0].copy()\n",
    "    general_h = [[\"?\" for _ in range(len(specific_h))] for _ in range(len(specific_h))]\n",
    "\n",
    "    for i, h in enumerate(x):\n",
    "        if y[i] == \"yes\":\n",
    "            for j in range(len(specific_h)):\n",
    "                if h[j] != specific_h[j]:\n",
    "                    general_h[j][j] = '?'\n",
    "                    specific_h[j] = '?'\n",
    "        if y[i] == \"no\":\n",
    "            for j in range(len(specific_h)):\n",
    "                if h[j] != specific_h[j]:\n",
    "                    general_h[j][j] = specific_h[j]\n",
    "                else:\n",
    "                    general_h[j][j] = \"?\"\n",
    "    general_b = [i for i in general_h if i != ['?','?','?','?','?','?']]\n",
    "    return specific_h, general_h"
   ]
  },
  {
   "cell_type": "code",
   "execution_count": 26,
   "metadata": {
    "colab": {
     "base_uri": "https://localhost:8080/",
     "height": 104
    },
    "colab_type": "code",
    "id": "861yU76B0GvD",
    "outputId": "264f05cf-1b68-4015-f35e-c56894565a86"
   },
   "outputs": [
    {
     "name": "stdout",
     "output_type": "stream",
     "text": [
      "Final specific hypothesis.\n",
      "['sunny' 'warm' '?' 'strong' '?' '?']\n",
      "Final general hypothesis.\n",
      "[['sunny', '?', '?', '?', '?', '?'], ['?', 'warm', '?', '?', '?', '?'], ['?', '?', '?', '?', '?', '?'], ['?', '?', '?', '?', '?', '?'], ['?', '?', '?', '?', '?', '?'], ['?', '?', '?', '?', '?', '?']]\n"
     ]
    }
   ],
   "source": [
    "sf, gf = learn(x, y)\n",
    "print(\"Final specific hypothesis.\", sf, sep=\"\\n\")\n",
    "print(\"Final general hypothesis.\", gf, sep=\"\\n\")"
   ]
  }
 ],
 "metadata": {
  "colab": {
   "collapsed_sections": [],
   "name": "p2.ipynb",
   "provenance": []
  },
  "kernelspec": {
   "display_name": "Python 3",
   "language": "python",
   "name": "python3"
  },
  "language_info": {
   "codemirror_mode": {
    "name": "ipython",
    "version": 3
   },
   "file_extension": ".py",
   "mimetype": "text/x-python",
   "name": "python",
   "nbconvert_exporter": "python",
   "pygments_lexer": "ipython3",
   "version": "3.7.4"
  }
 },
 "nbformat": 4,
 "nbformat_minor": 1
}
