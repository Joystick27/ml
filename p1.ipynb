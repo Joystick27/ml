{
 "cells": [
  {
   "cell_type": "code",
   "execution_count": 1,
   "metadata": {
    "colab": {},
    "colab_type": "code",
    "id": "JjM7kQdvurCG"
   },
   "outputs": [],
   "source": [
    "import pandas as pd"
   ]
  },
  {
   "cell_type": "code",
   "execution_count": 4,
   "metadata": {
    "colab": {},
    "colab_type": "code",
    "id": "q7GEeGE-u6rJ"
   },
   "outputs": [],
   "source": [
    "def loadCsv(filename):\n",
    "    df = pd.read_csv(filename)\n",
    "    dataset = df.values.tolist()\n",
    "    return dataset"
   ]
  },
  {
   "cell_type": "code",
   "execution_count": 10,
   "metadata": {
    "colab": {},
    "colab_type": "code",
    "id": "-1GH1c6TxLdZ"
   },
   "outputs": [
    {
     "name": "stdout",
     "output_type": "stream",
     "text": [
      "['sunny', 'warm', 'normal', 'strong', 'warm', 'same ', 'yes']\n",
      "['sunny', 'warm', '?', 'strong', 'warm', 'same ', 'yes']\n",
      "['sunny', 'warm', '?', 'strong', 'warm', 'same ', 'yes']\n",
      "['sunny', 'warm', '?', 'strong', '?', '?', 'yes']\n",
      "final hypo\n",
      "['sunny', 'warm', '?', 'strong', '?', '?', 'yes']\n"
     ]
    }
   ],
   "source": [
    "dataset = loadCsv(\"weather.csv\")\n",
    "n=len(dataset[0])\n",
    "\n",
    "h = ['0'] * n\n",
    "\n",
    "for i in range(len(dataset)):\n",
    "    target = dataset[i][-1]\n",
    "    if target == 'yes':\n",
    "        for j in range(n):\n",
    "            if h[j] == '0':\n",
    "                h[j] = dataset[i][j]\n",
    "            if h[j] != dataset[i][j]:\n",
    "                h[j] = '?'\n",
    "\n",
    "print(\"final hypo\")\n",
    "print(h)"
   ]
  }
 ],
 "metadata": {
  "colab": {
   "name": "p1.ipynb",
   "provenance": []
  },
  "kernelspec": {
   "display_name": "Python 3",
   "language": "python",
   "name": "python3"
  },
  "language_info": {
   "codemirror_mode": {
    "name": "ipython",
    "version": 3
   },
   "file_extension": ".py",
   "mimetype": "text/x-python",
   "name": "python",
   "nbconvert_exporter": "python",
   "pygments_lexer": "ipython3",
   "version": "3.7.4"
  }
 },
 "nbformat": 4,
 "nbformat_minor": 1
}
