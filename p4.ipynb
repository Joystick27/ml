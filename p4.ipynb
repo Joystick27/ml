{
 "cells": [
  {
   "cell_type": "code",
   "execution_count": 12,
   "metadata": {
    "colab": {},
    "colab_type": "code",
    "id": "Tr475vqgo34u"
   },
   "outputs": [],
   "source": [
    "import numpy as np\n",
    "import pandas as pd"
   ]
  },
  {
   "cell_type": "code",
   "execution_count": 13,
   "metadata": {
    "colab": {},
    "colab_type": "code",
    "id": "u8TMP0Lv9uNI"
   },
   "outputs": [],
   "source": [
    "def sigmoid(x):\n",
    "    return 1 / (1 + np.exp(-x))\n",
    "def sigmoidGrad(x):\n",
    "    return x * (1-x)"
   ]
  },
  {
   "cell_type": "code",
   "execution_count": 14,
   "metadata": {
    "colab": {
     "base_uri": "https://localhost:8080/",
     "height": 67
    },
    "colab_type": "code",
    "id": "8VNbdt118tv_",
    "outputId": "9d50162a-03a1-42fb-a0c2-2997bf5529df"
   },
   "outputs": [
    {
     "name": "stdout",
     "output_type": "stream",
     "text": [
      "[[0.66666667 1.        ]\n",
      " [0.33333333 0.55555556]\n",
      " [1.         0.66666667]]\n"
     ]
    }
   ],
   "source": [
    "x = np.array(([2, 9], [1, 5], [3, 6]), dtype = float)\n",
    "y = np.array(([92], [86], [50]), dtype = float)\n",
    "# Here np.amax will be [3, 9] if axis = 1 then it will be [9, 5, 6]\n",
    "# The first col will be divided by 3 and the last col will be divided by 9\n",
    "# [[0.66666667 1.        ]\n",
    "#  [0.33333333 0.55555556]\n",
    "#  [1.         0.66666667]]\n",
    "X = x/np.amax(x, axis = 0)\n",
    "Y = y/100\n",
    "print(X)"
   ]
  },
  {
   "cell_type": "code",
   "execution_count": 15,
   "metadata": {
    "colab": {},
    "colab_type": "code",
    "id": "WtXdOmcB9iUm"
   },
   "outputs": [
    {
     "name": "stdout",
     "output_type": "stream",
     "text": [
      "[[-2.63334747  0.90502355 -2.41973234]\n",
      " [ 2.36128827 -0.08188098  2.05395094]]\n"
     ]
    }
   ],
   "source": [
    "epoch = 7000\n",
    "lr = 0.1\n",
    "\n",
    "ineuron = 2\n",
    "hneuron = 3\n",
    "oneuron = 1\n",
    "# Input layer and input layer bias\n",
    "hLayer = np.random.uniform(size = (2, 3))\n",
    "hBias = np.random.uniform(size = (1, 3))\n",
    "# Ouput layer and output layer bias\n",
    "oLayer = np.random.uniform(size = (3, 1))\n",
    "oBias = np.random.uniform(size = (1, 1))\n",
    "print(inputLayer)"
   ]
  },
  {
   "cell_type": "code",
   "execution_count": 19,
   "metadata": {
    "colab": {
     "base_uri": "https://localhost:8080/",
     "height": 168
    },
    "colab_type": "code",
    "id": "q8ktFAdV_VxH",
    "outputId": "5e3dc5f2-4c9d-45e8-d6b7-b0bb705a2fce"
   },
   "outputs": [
    {
     "name": "stdout",
     "output_type": "stream",
     "text": [
      "Normalized input\n",
      "[[0.66666667 1.        ]\n",
      " [0.33333333 0.55555556]\n",
      " [1.         0.66666667]]\n",
      "Normalized Output\n",
      "[[0.92]\n",
      " [0.86]\n",
      " [0.5 ]]\n",
      "Prediction\n",
      " [[0.89058684]\n",
      " [0.88795354]\n",
      " [0.50230457]]\n"
     ]
    }
   ],
   "source": [
    "for i in range(epoch):\n",
    "    # input layer 2 * 3 and X is 3 * 2 output is 3 * 3\n",
    "    # each row is added to each row\n",
    "    hInput = np.dot(X, hLayer) + hBias\n",
    "    hOut = sigmoid(hInput)\n",
    "    oInput = np.dot(hOut, oLayer) + oBias\n",
    "    output = sigmoid(oInput)\n",
    "    \n",
    "    oError = Y - output \n",
    "    \n",
    "    oGrad = sigmoidGrad(output)\n",
    "    diffOp = oError * oGrad\n",
    "    # * is just array multiplication and not matrix multiplication. (dot) is matrix multiplication   \n",
    "    hiddenError = diffOp.dot(oLayer.T)\n",
    "    \n",
    "    hGrad = sigmoidGrad(hOut)\n",
    "    diffH = hiddenError * hGrad\n",
    "    \n",
    "    oLayer += hOut.T.dot(diffOp) * lr\n",
    "    hLayer += X.T.dot(diffH) * lr\n",
    "\n",
    "print(\"Normalized input\\n\" + str(X))\n",
    "print(\"Normalized Output\\n\" + str(Y))\n",
    "print(\"Prediction\\n\", output)"
   ]
  }
 ],
 "metadata": {
  "colab": {
   "collapsed_sections": [],
   "name": "p3.ipynb",
   "provenance": []
  },
  "kernelspec": {
   "display_name": "Python 3",
   "language": "python",
   "name": "python3"
  },
  "language_info": {
   "codemirror_mode": {
    "name": "ipython",
    "version": 3
   },
   "file_extension": ".py",
   "mimetype": "text/x-python",
   "name": "python",
   "nbconvert_exporter": "python",
   "pygments_lexer": "ipython3",
   "version": "3.7.4"
  }
 },
 "nbformat": 4,
 "nbformat_minor": 1
}
